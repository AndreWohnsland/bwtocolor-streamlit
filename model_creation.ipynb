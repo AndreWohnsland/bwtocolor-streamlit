{
 "cells": [
  {
   "cell_type": "code",
   "execution_count": 1,
   "metadata": {},
   "outputs": [],
   "source": [
    "import numpy as np\n",
    "import cv2"
   ]
  },
  {
   "cell_type": "code",
   "execution_count": 2,
   "metadata": {},
   "outputs": [],
   "source": [
    "def load_init_model():\n",
    "    \"\"\"Load the Caffe model and according data, return the finished model\"\"\"\n",
    "    model = cv2.dnn.readNetFromCaffe(\n",
    "        \"model/colorization_deploy_v2.prototxt\",\n",
    "        \"model/colorization_release_v2.caffemodel\"\n",
    "    )\n",
    "    pts = np.load(\"model/pts_in_hull.npy\")\n",
    "    # add the cluster centers as 1x1 convolutions to the model\n",
    "    class8 = model.getLayerId(\"class8_ab\")\n",
    "    conv8 = model.getLayerId(\"conv8_313_rh\")\n",
    "    pts = pts.transpose().reshape(2, 313, 1, 1)\n",
    "    model.getLayer(class8).blobs = [pts.astype(\"float32\")]\n",
    "    model.getLayer(conv8).blobs = [np.full([1, 313], 2.606, dtype=\"float32\")]\n",
    "    return model"
   ]
  },
  {
   "cell_type": "code",
   "execution_count": 3,
   "metadata": {},
   "outputs": [],
   "source": [
    "def prepare_and_predict_image(img, model):\n",
    "    \"\"\" Convert image to Lab, scale to model dims, pass through model.\n",
    "    Combine predicted ab with original L, convert to RGB and scale back.\n",
    "    \"\"\"\n",
    "    image = cv2.imread(img)\n",
    "    scaled = image.astype(\"float32\") / 255.0\n",
    "    lab = cv2.cvtColor(scaled, cv2.COLOR_BGR2LAB)\n",
    "    resized = cv2.resize(lab, (224, 224)) # resize to model dimensions\n",
    "    L = cv2.split(resized)[0] # extract L from LAB\n",
    "    L -= 50 # mean centering\n",
    "    model.setInput(cv2.dnn.blobFromImage(L))\n",
    "    ab = model.forward()[0, :, :, :].transpose((1, 2, 0))\n",
    "    ab = cv2.resize(ab, (image.shape[1], image.shape[0])) # resize prediction back to img props\n",
    "    # get original L layer, add a and b to it, convert to rgb\n",
    "    L = cv2.split(lab)[0]\n",
    "    colorized = np.concatenate((L[:, :, np.newaxis], ab), axis=2)\n",
    "    colorized = cv2.cvtColor(colorized, cv2.COLOR_LAB2BGR)\n",
    "    colorized = np.clip(colorized, 0, 1)\n",
    "    # convert from float range (0,1) to uint (0, 255)\n",
    "    colorized = (255 * colorized).astype(\"uint8\")\n",
    "    cv2.imshow(\"Original\", image)\n",
    "    cv2.imshow(\"Colorized\", colorized)\n",
    "    cv2.waitKey(0)"
   ]
  },
  {
   "cell_type": "code",
   "execution_count": 4,
   "metadata": {},
   "outputs": [],
   "source": [
    "model = load_init_model()"
   ]
  },
  {
   "cell_type": "code",
   "execution_count": 5,
   "metadata": {},
   "outputs": [],
   "source": [
    "testimg = \"data/testdata/Validate/7Vizcm.jpg\"\n",
    "testimg = \"data/testdata/Validate/landscape.jpeg\"\n",
    "testimg = \"data/testdata/Validate/9KfZez.jpg\"\n",
    "testimg = \"data/testdata/Validate/1QejlL.jpg\"\n",
    "\n",
    "testimg = \"data/testdata/Train/11Se02.jpg\"\n",
    "testimg = \"data/testdata/Train/1PFDZe.jpg\"\n",
    "testimg = \"data/testdata/Validate/landscape2.jpg\"\n",
    "\n",
    "prepare_and_predict_image(testimg, model)"
   ]
  },
  {
   "cell_type": "code",
   "execution_count": null,
   "metadata": {},
   "outputs": [],
   "source": []
  }
 ],
 "metadata": {
  "kernelspec": {
   "display_name": "Python 3",
   "language": "python",
   "name": "python3"
  },
  "language_info": {
   "codemirror_mode": {
    "name": "ipython",
    "version": 3
   },
   "file_extension": ".py",
   "mimetype": "text/x-python",
   "name": "python",
   "nbconvert_exporter": "python",
   "pygments_lexer": "ipython3",
   "version": "3.8.8"
  }
 },
 "nbformat": 4,
 "nbformat_minor": 4
}
